{
 "cells": [
  {
   "cell_type": "code",
   "execution_count": 7,
   "id": "691ad1ff",
   "metadata": {},
   "outputs": [],
   "source": [
    "import os\n",
    "import re\n",
    "\n",
    "def search_files_with_tag(folder_path, tag):\n",
    "    \"\"\"\n",
    "    搜尋指定資料夾中的所有 .md 檔案，找到包含特定標籤的檔案。\n",
    "    \n",
    "    :param folder_path: 資料夾路徑\n",
    "    :param tag: 要搜尋的標籤（例如 #tag）\n",
    "    :return: 包含該標籤的檔案清單\n",
    "    \"\"\"\n",
    "    files_with_tag = []\n",
    "    tag_pattern = re.compile(rf'{tag}\\b')  # 只匹配獨立標籤\n",
    "    \n",
    "    # 遍歷資料夾中的所有檔案\n",
    "    for root, dirs, files in os.walk(folder_path):\n",
    "        for file in files:\n",
    "            if file.endswith('.md'):\n",
    "                file_path = os.path.join(root, file)\n",
    "                with open(file_path, 'r', encoding='utf-8') as f:\n",
    "                    content = f.read()\n",
    "                    # 檢查檔案內容是否包含指定的標籤\n",
    "                    if tag_pattern.search(content):\n",
    "                        files_with_tag.append(file_path)\n",
    "    \n",
    "    return files_with_tag\n",
    "\n",
    "def main() :\n",
    "    \n",
    "    # 使用範例\n",
    "    folder_path = r\"D:\\obsidian\"  # 使用你的資料夾路徑\n",
    "    tag = \"#fc_c\"  # 替換為你想搜尋的標籤\n",
    "    result_files = search_files_with_tag(folder_path, tag)\n",
    "\n",
    "    print(f\"包含標籤 {tag} 的檔案：\")\n",
    "    for file in result_files:\n",
    "        print(file)"
   ]
  },
  {
   "cell_type": "code",
   "execution_count": 8,
   "id": "42b2e181",
   "metadata": {},
   "outputs": [
    {
     "name": "stdout",
     "output_type": "stream",
     "text": [
      "包含標籤 #fc_c 的檔案：\n",
      "D:\\obsidian\\工作\\工作\\工作\\程式備考\\C語言閃卡.md\n"
     ]
    }
   ],
   "source": [
    "if __name__ == \"__main__\" :\n",
    "    main()"
   ]
  },
  {
   "cell_type": "code",
   "execution_count": null,
   "id": "4f30c031",
   "metadata": {},
   "outputs": [],
   "source": []
  }
 ],
 "metadata": {
  "kernelspec": {
   "display_name": "PJ_AI_Friend",
   "language": "python",
   "name": "pj_ai_friend"
  },
  "language_info": {
   "codemirror_mode": {
    "name": "ipython",
    "version": 3
   },
   "file_extension": ".py",
   "mimetype": "text/x-python",
   "name": "python",
   "nbconvert_exporter": "python",
   "pygments_lexer": "ipython3",
   "version": "3.7.16"
  }
 },
 "nbformat": 4,
 "nbformat_minor": 5
}
