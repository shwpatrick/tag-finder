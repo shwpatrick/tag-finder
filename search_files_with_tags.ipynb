{
 "cells": [
  {
   "cell_type": "code",
   "execution_count": 2,
   "id": "e22f65a6",
   "metadata": {},
   "outputs": [
    {
     "name": "stdout",
     "output_type": "stream",
     "text": [
      "包含任意指定標籤的檔案：\n",
      "D:\\obsidian\\工作\\工作\\閃卡測試.md: 包含標籤 #fc_test\n",
      "D:\\obsidian\\工作\\工作\\工作\\程式備考\\C語言閃卡.md: 包含標籤 #fc_c\n"
     ]
    }
   ],
   "source": [
    "import os\n",
    "import re\n",
    "\n",
    "def search_files_with_tags(folder_path, tags):\n",
    "    \"\"\"\n",
    "    搜尋指定資料夾中的所有 .md 檔案，找到包含任意指定標籤的檔案，並標記每個檔案包含的標籤。\n",
    "    \n",
    "    :param folder_path: 資料夾路徑\n",
    "    :param tags: 要搜尋的標籤列表（例如 ['#tag1', '#tag2']）\n",
    "    :return: 包含檔案路徑和其對應標籤的字典\n",
    "    \"\"\"\n",
    "    files_with_tags = {}\n",
    "    # 直接建立正則表達式，不轉義 # 符號\n",
    "    tag_patterns = [rf'{tag}\\b' for tag in tags]  # 只在標籤結尾加單字邊界\n",
    "    combined_pattern = re.compile('|'.join(tag_patterns))  # 用 \"|\" 表示 \"或\" 的關係\n",
    "\n",
    "    # 遍歷資料夾中的所有檔案\n",
    "    for root, dirs, files in os.walk(folder_path):\n",
    "        for file in files:\n",
    "            if file.endswith('.md'):\n",
    "                file_path = os.path.join(root, file)\n",
    "                with open(file_path, 'r', encoding='utf-8') as f:\n",
    "                    content = f.read()\n",
    "                    # 檢查檔案內容是否包含任意標籤，並記錄包含的標籤\n",
    "                    matched_tags = [tag for tag in tags if re.search(rf'{tag}\\b', content)]\n",
    "                    if matched_tags:\n",
    "                        files_with_tags[file_path] = matched_tags\n",
    "    \n",
    "    return files_with_tags\n",
    "\n",
    "def main():\n",
    "    # 使用範例\n",
    "    folder_path = r\"D:\\obsidian\\工作\\工作\"  # 使用你的資料夾路徑\n",
    "    tags = [\"#fc_test\", \"#旅遊\", \"#fc_c\"]  # 替換為你想搜尋的多個標籤\n",
    "    result_files = search_files_with_tags(folder_path, tags)\n",
    "\n",
    "    print(\"包含任意指定標籤的檔案：\")\n",
    "    for file, matched_tags in result_files.items():\n",
    "        print(f\"{file}: 包含標籤 {', '.join(matched_tags)}\")\n",
    "        \n",
    "        \n",
    "if __name__ == \"__main__\" :\n",
    "    main()"
   ]
  },
  {
   "cell_type": "code",
   "execution_count": null,
   "id": "36bb538a",
   "metadata": {},
   "outputs": [],
   "source": []
  }
 ],
 "metadata": {
  "kernelspec": {
   "display_name": "PJ_AI_Friend",
   "language": "python",
   "name": "pj_ai_friend"
  },
  "language_info": {
   "codemirror_mode": {
    "name": "ipython",
    "version": 3
   },
   "file_extension": ".py",
   "mimetype": "text/x-python",
   "name": "python",
   "nbconvert_exporter": "python",
   "pygments_lexer": "ipython3",
   "version": "3.7.16"
  }
 },
 "nbformat": 4,
 "nbformat_minor": 5
}
